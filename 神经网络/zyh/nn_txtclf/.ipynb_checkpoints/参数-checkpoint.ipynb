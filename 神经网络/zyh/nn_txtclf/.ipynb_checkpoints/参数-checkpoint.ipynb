{
 "cells": [
  {
   "cell_type": "code",
   "execution_count": null,
   "metadata": {},
   "outputs": [],
   "source": [
    " layers = [[l_tanh(20, 4), l_tanh(4, 4), l_tanh(4, 4), l_tanh(4, 4), l_tanh(4, 4), softmax(4, 20)],\n",
    "              [l_tanh(20, 8), l_tanh(8, 8), l_tanh(8, 8), l_tanh(8, 8), l_tanh(8, 8), softmax(8, 20)],\n",
    "              [l_tanh(20, 16), l_tanh(16, 16), l_tanh(16, 16), l_tanh(16, 16), l_tanh(16, 16), softmax(16, 20)],\n",
    "              [l_tanh(20, 32), l_tanh(32, 32), l_tanh(32, 32), l_tanh(32, 32), l_tanh(32, 32), softmax(32, 20)],\n",
    "              [l_tanh(20, 64), l_tanh(64, 64), l_tanh(64, 64), l_tanh(64, 64), l_tanh(64, 64), softmax(64, 20)],\n",
    "              [l_tanh(20, 128), l_tanh(128, 128), l_tanh(128, 128), l_tanh(128, 128), l_tanh(128, 128), softmax(128, 20)],\n",
    "              [l_tanh(20, 8), l_tanh(8, 16), l_tanh(16, 32), l_tanh(32, 64), l_tanh(64, 128), softmax(128, 20)],\n",
    "              [l_tanh(20, 128), l_tanh(128, 64), l_tanh(64, 32), l_tanh(32, 16), l_tanh(16, 4), softmax(4, 20)],\n",
    "              [l_tanh(20, 8), l_tanh(8, 4), l_tanh(4, 8), l_tanh(8, 4), l_tanh(4, 8), softmax(8, 20)],\n",
    "              [l_tanh(20, 16), l_tanh(16, 4), l_tanh(4, 16), l_tanh(16, 4), l_tanh(4, 16), softmax(16, 20)],\n",
    "              [l_tanh(20, 32), l_tanh(32, 16), l_tanh(16, 32), l_tanh(32, 16), l_tanh(16, 32), softmax(32, 20)],\n",
    "              [l_tanh(20, 64), l_tanh(64, 32), l_tanh(32, 4), l_tanh(4, 16), l_tanh(16, 4), softmax(4, 20)],\n",
    "              [l_tanh(20, 16), l_tanh(16, 128), l_tanh(128, 4), l_tanh(4, 32), l_tanh(32, 4), softmax(4, 20)],\n",
    "              [l_tanh(20, 64), l_tanh(64, 4), l_tanh(4, 128), l_tanh(128, 4), l_tanh(4, 32), softmax(32, 20)],\n",
    "              [l_tanh(20, 64), l_tanh(64, 32), l_tanh(32, 128), l_tanh(128, 4), l_tanh(4, 16), softmax(16, 20)]\n",
    "              ]\n",
    "    \n",
    "reg_lambda = 0.001\n",
    "num_passes = 7000\n",
    "gamma = 0.2\n",
    "epsilon_base = 0.000001\n",
    "Model.learn_rate_method = \"step\"\n",
    "\n",
    "\n",
    "The accuracy Tanh and epsilon:0 step 5 layers .png\n",
    "The loss Tanh and epsilon:0 step 5 layers .png"
   ]
  }
 ],
 "metadata": {
  "kernelspec": {
   "display_name": "Python 3",
   "language": "python",
   "name": "python3"
  },
  "language_info": {
   "codemirror_mode": {
    "name": "ipython",
    "version": 3
   },
   "file_extension": ".py",
   "mimetype": "text/x-python",
   "name": "python",
   "nbconvert_exporter": "python",
   "pygments_lexer": "ipython3",
   "version": "3.6.5"
  }
 },
 "nbformat": 4,
 "nbformat_minor": 2
}
